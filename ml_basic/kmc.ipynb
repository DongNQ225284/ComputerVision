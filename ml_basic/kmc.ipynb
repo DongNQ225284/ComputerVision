{
 "cells": [
  {
   "cell_type": "markdown",
   "id": "9ce87da7",
   "metadata": {},
   "source": [
    "## K - means clustering"
   ]
  },
  {
   "cell_type": "markdown",
   "id": "aa96ec66",
   "metadata": {},
   "source": []
  }
 ],
 "metadata": {
  "kernelspec": {
   "display_name": "Python 3",
   "language": "python",
   "name": "python3"
  },
  "language_info": {
   "name": "python",
   "version": "3.10.11"
  }
 },
 "nbformat": 4,
 "nbformat_minor": 5
}
