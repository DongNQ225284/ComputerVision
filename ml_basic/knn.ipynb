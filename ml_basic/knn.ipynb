{
 "cells": [
  {
   "cell_type": "markdown",
   "id": "94bf63cd",
   "metadata": {},
   "source": [
    "## **K-NEAREST NEIGHBORS**\n",
    "Từ một tập dữ liệu cho trước, khi có một dữ liệu mới, mô hình sẽ chọn ra K điểm dữ liệu gần nhất, sau đó xem xét nhãn của K điểm dữ liệu này và quyết định xem điểm mới này thuộc lớp nào?"
   ]
  },
  {
   "cell_type": "markdown",
   "id": "10fcbfb4",
   "metadata": {},
   "source": [
    "#### Mô hình bài toán\n",
    "Chúng ta có một các điểm:\n",
    "$$\n",
    "\\mathbf{X} \n",
    "= \n",
    "\\begin{bmatrix}\n",
    "\\mathbf{x}_1 \\\\\n",
    "... \\\\\n",
    "\\mathbf{x}_N\n",
    "\\end{bmatrix}\n",
    "\n",
    "\\text{với} \\space \\mathbf{x}_i = [x_1, ..., x_d]\n",
    "$$\n",
    "Cùng với nhãn dữ liệu tương ứng:\n",
    "$$\n",
    "\\mathbf{y} \n",
    "=\n",
    "\\begin{bmatrix}\n",
    "y_1 \\\\\n",
    "... \\\\\n",
    "y_N\n",
    "\\end{bmatrix}\n",
    "$$\n",
    "Chúng ta có một điểm dữ liệu mới cần dự đoán:\n",
    "$$\n",
    "z = [z_1, ..., z_d]\n",
    "$$\n",
    "\n",
    "Ý tưởng của KNN.\n",
    "\n",
    "Tính khoảng cách từ điểm $\\mathbf{z}$ đến tất cả các điểm dữ liệu trong tập $\\mathbf{X}$ \n",
    "\n",
    "$$\n",
    "d_i = \\|\\mathbf{z} - \\mathbf{x}_i\\|_2^2\n",
    "$$\n",
    "\n",
    "$$\n",
    "\\mathbf{d} \n",
    "=\n",
    "\\begin{bmatrix}\n",
    "\\|\\mathbf{z} - \\mathbf{x}_1\\|_2^2 \\\\\n",
    "... \\\\\n",
    "\\|\\mathbf{z} - \\mathbf{x}_N\\|_2^2\n",
    "\\end{bmatrix}\n",
    "= \n",
    "\\begin{bmatrix}\n",
    "d_1 \\\\\n",
    "... \\\\\n",
    "d_N \n",
    "\\end{bmatrix}\n",
    "$$\n",
    "\n",
    "Trong tập $\\mathbf{d}$ chọn ra index của $K$ giá trị nhỏ nhất. $(*)$\n",
    "$$\n",
    "\\mathbf{I} = [i_1, ..., i_k]\n",
    "$$\n",
    "\n",
    "Khi đó giá trị dự đoán của mô hình sẽ được quyết định bởi các phần tử trong tập:\n",
    "$$\n",
    "\\mathbf{\\bar{y}} = [y_{i_1}, ..., y_{i_k}]\n",
    "$$\n",
    "\n",
    "Giá trị dự đoán sẽ được tính như sau đối với bài toán Regresstion\n",
    "$$\n",
    "\\hat{y} \n",
    "= \\frac{w_1y_{i_1}+ ... + w_ky_{i_k}}{w_1 + ...+ w_k}\n",
    "= \\frac{\\sum_{l=1}^k{w_ly_{i_l}}}{\\sum_{l=1}^k{w_l}}\n",
    "\\text{, với }\n",
    "w_i \\text{ là trọng số}\n",
    "$$\n",
    "\n",
    "Đối với bài toán phân loại, giá trị dự đoán của mô hình sẽ là giá trị class xuất hiện nhiều nhất\n",
    "$$\n",
    "\\hat{y} = \\max{\\{y_i : i = \\bar{1..K}\\}}\n",
    "$$\n",
    "\n",
    "Trong bước $(*)$ để tăng tốc độ tính toán, ta có thể giải một bài toán có cùng kết quả  \n",
    "Xét\n",
    "$$\n",
    "d_i = \\|\\mathbf{z} - \\mathbf{x}_i \\|_2^2 \n",
    "= (\\mathbf{z} - \\mathbf{x}_i)(\\mathbf{z} - \\mathbf{x}_i)^T \n",
    "= (\\mathbf{z} - \\mathbf{x}_i)(\\mathbf{z}^T - \\mathbf{x}_i^T)\n",
    "= \\mathbf{z}\\mathbf{z}^T + \\mathbf{x}_i\\mathbf{x}_i^T - 2\\mathbf{x}_i\\mathbf{z}^T\n",
    "= \\|\\mathbf{z}\\|_2^2 + \\|\\mathbf{x}_i \\|_2^2 - 2\\mathbf{x}_i\\mathbf{z}^T\n",
    "$$\n",
    "\n",
    "Gọi\n",
    "$$\n",
    "\\mathbf{\\bar{d}}\n",
    "=\n",
    "\\begin{bmatrix}\n",
    "\\bar{d}_1 \\\\\n",
    "... \\\\\n",
    "\\bar{d}_N\n",
    "\\end{bmatrix}\n",
    "\\text{với} \\space\n",
    "\\bar{d}_i = \\|\\mathbf{x}_i \\|_2^2 - 2\\mathbf{x}_i\\mathbf{z}^T\n",
    "$$\n",
    "\n",
    "Tiếp tục triển khai:\n",
    "$$\n",
    "\\mathbf{\\bar{d}}\n",
    "=\n",
    "\\begin{bmatrix}\n",
    "\\|\\mathbf{x}_1 \\|_2^2 - 2\\mathbf{x}_1\\mathbf{z}^T \\\\\n",
    "... \\\\\n",
    "\\|\\mathbf{x}_N \\|_2^2 - 2\\mathbf{x}_N\\mathbf{z}^T\n",
    "\\end{bmatrix}\n",
    "=\n",
    "\\begin{bmatrix}\n",
    "\\|\\mathbf{x}_1 \\|_2^2\\\\\n",
    "... \\\\\n",
    "\\|\\mathbf{x}_N \\|_2^2\n",
    "\\end{bmatrix}\n",
    "-\n",
    "2\n",
    "\\begin{bmatrix}\n",
    "\\mathbf{x}_1\\mathbf{z}^T \\\\\n",
    "... \\\\\n",
    "\\mathbf{x}_N\\mathbf{z}^T\n",
    "\\end{bmatrix}\n",
    "=\n",
    "\\begin{bmatrix}\n",
    "\\|\\mathbf{x}_1 \\|_2^2\\\\\n",
    "... \\\\\n",
    "\\|\\mathbf{x}_N \\|_2^2\n",
    "\\end{bmatrix}\n",
    "-\n",
    "2\\mathbf{X}\\mathbf{z}\n",
    "$$\n",
    "Khi đó $(*)$ có cùng kết quả với bài toán Trong tập $\\mathbf{\\bar{d}}$ chọn ra index của $K$ giá trị nhỏ nhất.\n",
    "Từ đó, ta có thể tính các giá trị $\\|\\mathbf{x}_i \\|_2^2$ trước và có thể tính toán nhanh hơn"
   ]
  },
  {
   "cell_type": "code",
   "execution_count": 87,
   "id": "f90260a9",
   "metadata": {},
   "outputs": [],
   "source": [
    "import numpy as np\n",
    "from sklearn                 import neighbors, datasets\n",
    "from sklearn.metrics         import accuracy_score\n",
    "from sklearn.model_selection import train_test_split # for splitting data"
   ]
  },
  {
   "cell_type": "code",
   "execution_count": 88,
   "id": "8a58a890",
   "metadata": {},
   "outputs": [],
   "source": [
    "class Model:\n",
    "    def __init__(self, n_neighbors=1, p = 2, weights = 'uniform'):\n",
    "        self.p = p\n",
    "        self.X = None\n",
    "        self.y = None\n",
    "        self.w = weights\n",
    "        self.k = n_neighbors\n",
    "    \n",
    "    def fit(self, data, target):\n",
    "        self.X  = data\n",
    "        self.y  = target\n",
    "        self.X2 = np.sum(self.X * self.X, axis=1)\n",
    "\n",
    "    def dist_ps_fast(self, z):\n",
    "        if self.p == 1:\n",
    "            return np.sum(np.abs(self.X - z), axis=1) \n",
    "        if self.p == 2:\n",
    "            return self.X2 - 2 * self.X @ z\n",
    "        \n",
    "    def predict(self, dataset):\n",
    "        result = []\n",
    "        for z in dataset:\n",
    "            dbar = self.dist_ps_fast(z)        \n",
    "            I    = np.argsort(dbar)[:self.k]\n",
    "            # set weights\n",
    "            dis_k = np.array([dbar[idx] for idx in I])\n",
    "            if self.w == 'uniform':\n",
    "                weights = np.ones(self.k)\n",
    "            elif self.w == 'distance':\n",
    "                weights = 1/(dis_k + 1e-9)  \n",
    "            elif callable(self.w):\n",
    "                weights = self.w(dis_k) + 1e-9\n",
    "                #print(weights)\n",
    "            else:\n",
    "                raise ValueError(\"Invalid weight function\")\n",
    "            ybar = np.array([self.y[idx] for idx in I])\n",
    "            yhat = round(np.sum(ybar * weights) / np.sum(weights))\n",
    "            result.append(yhat)\n",
    "        return np.array(result)"
   ]
  },
  {
   "cell_type": "code",
   "execution_count": 89,
   "id": "37a6966f",
   "metadata": {},
   "outputs": [],
   "source": [
    "np.random.seed(7)\n",
    "iris = datasets.load_iris()\n",
    "iris_X = iris.data\n",
    "iris_y = iris.target\n",
    "X_train, X_test, y_train, y_test = train_test_split(iris_X, iris_y, test_size=130)"
   ]
  },
  {
   "cell_type": "markdown",
   "id": "5c69a26d",
   "metadata": {},
   "source": [
    "#### Sử dụng Model triển khai bên trên"
   ]
  },
  {
   "cell_type": "code",
   "execution_count": 90,
   "id": "9f83e46e",
   "metadata": {},
   "outputs": [
    {
     "name": "stdout",
     "output_type": "stream",
     "text": [
      "Accuracy of 1NN: 92.3076923076923\n"
     ]
    }
   ],
   "source": [
    "model = Model(n_neighbors=1, p=2)\n",
    "model.fit(X_train, y_train)\n",
    "y_pred = model.predict(X_test)\n",
    "print(f\"Accuracy of 1NN: {100*accuracy_score(y_test, y_pred)}\")"
   ]
  },
  {
   "cell_type": "markdown",
   "id": "275f42c0",
   "metadata": {},
   "source": [
    "#### Sử dụng Scikit-Learn"
   ]
  },
  {
   "cell_type": "code",
   "execution_count": 91,
   "id": "fa2d51d7",
   "metadata": {},
   "outputs": [
    {
     "name": "stdout",
     "output_type": "stream",
     "text": [
      "Accuracy of 1NN: 92.3076923076923\n"
     ]
    }
   ],
   "source": [
    "model = neighbors.KNeighborsClassifier(n_neighbors=1, p=2)\n",
    "model.fit(X_train, y_train)\n",
    "y_pred = model.predict(X_test)\n",
    "print(f\"Accuracy of 1NN: {100*accuracy_score(y_test, y_pred)}\")"
   ]
  },
  {
   "cell_type": "markdown",
   "id": "9d340cd6",
   "metadata": {},
   "source": [
    "### Trọng số"
   ]
  },
  {
   "cell_type": "markdown",
   "id": "c684b73c",
   "metadata": {},
   "source": [
    "Với thuật toán trước đó K hàng xóm gần điểm sẽ tiến hành biểu quyết, giá trị của các lá phiếu là công bằng như sau.  \n",
    "\n",
    "Tuy nhiên, chúng ta cũng có thể nghĩ rằng, những hàng xóm gần điểm dữ liệu hơn sẽ đáng tin cậy hơn, và ta có thể cho rằng lá phiếu của những người gần nhất sẽ đáng tin cậy nhất"
   ]
  },
  {
   "cell_type": "markdown",
   "id": "a5b066a2",
   "metadata": {},
   "source": [
    "#### Trọng số dựa trên khoảng cách"
   ]
  },
  {
   "cell_type": "markdown",
   "id": "79bdff7a",
   "metadata": {},
   "source": [
    "#### Sử dụng Model triển khai"
   ]
  },
  {
   "cell_type": "code",
   "execution_count": 92,
   "id": "55844273",
   "metadata": {},
   "outputs": [
    {
     "name": "stdout",
     "output_type": "stream",
     "text": [
      "Accuracy of 7NN (1/distance weights): 93.85 %\n"
     ]
    }
   ],
   "source": [
    "model = Model(n_neighbors = 7, p = 2, weights='distance')\n",
    "model.fit(X_train, y_train)\n",
    "y_pred = model.predict(X_test)\n",
    "print(f\"Accuracy of 7NN (1/distance weights): {100*accuracy_score(y_test, y_pred):.2f} %\")"
   ]
  },
  {
   "cell_type": "markdown",
   "id": "dc33669c",
   "metadata": {},
   "source": [
    "#### Sử dụng Scikit-Learn"
   ]
  },
  {
   "cell_type": "code",
   "execution_count": 93,
   "id": "2d9be81f",
   "metadata": {},
   "outputs": [
    {
     "name": "stdout",
     "output_type": "stream",
     "text": [
      "Accuracy of 7NN (1/distance weights): 94.62 %\n"
     ]
    }
   ],
   "source": [
    "model = neighbors.KNeighborsClassifier(n_neighbors = 7, p = 2, weights='distance')\n",
    "model.fit(X_train, y_train)\n",
    "y_pred = model.predict(X_test)\n",
    "print(f\"Accuracy of 7NN (1/distance weights): {100*accuracy_score(y_test, y_pred):.2f} %\")"
   ]
  },
  {
   "cell_type": "markdown",
   "id": "03051057",
   "metadata": {},
   "source": [
    "### Trọng số tự định nghĩa"
   ]
  },
  {
   "cell_type": "markdown",
   "id": "438a0941",
   "metadata": {},
   "source": [
    "Một cách đánh trọng số khác thường được sử dụng\n",
    "\n",
    "$$\n",
    "w_i = \\exp\\left( \\frac{-\\|\\mathbf{z} - \\mathbf{x}_i \\|_2^2}{\\sigma^2} \\right)\n",
    "$$"
   ]
  },
  {
   "cell_type": "code",
   "execution_count": 94,
   "id": "4ff985a8",
   "metadata": {},
   "outputs": [],
   "source": [
    "def myweight(distances, sigma = 0.7):\n",
    "    return np.exp(-distances**2/sigma**2)"
   ]
  },
  {
   "cell_type": "markdown",
   "id": "4321f08f",
   "metadata": {},
   "source": [
    "#### Sử dụng Model triển khai bên trên"
   ]
  },
  {
   "cell_type": "code",
   "execution_count": 95,
   "id": "8254d3dd",
   "metadata": {},
   "outputs": [
    {
     "name": "stdout",
     "output_type": "stream",
     "text": [
      "Accuracy of 7NN (customized weights): 93.85 %\n"
     ]
    }
   ],
   "source": [
    "model = Model(n_neighbors = 7, p = 2, weights = myweight)\n",
    "model.fit(X_train, y_train)\n",
    "y_pred = model.predict(X_test)\n",
    "print(f\"Accuracy of 7NN (customized weights): {100*accuracy_score(y_test, y_pred):.2f} %\")"
   ]
  },
  {
   "cell_type": "markdown",
   "id": "73d52849",
   "metadata": {},
   "source": [
    "#### Sử dụng Scikit-Learn"
   ]
  },
  {
   "cell_type": "code",
   "execution_count": 96,
   "id": "1dac4762",
   "metadata": {},
   "outputs": [
    {
     "name": "stdout",
     "output_type": "stream",
     "text": [
      "Accuracy of 7NN (customized weights): 94.62 %\n"
     ]
    }
   ],
   "source": [
    "\n",
    "model = neighbors.KNeighborsClassifier(n_neighbors = 7, p = 2, weights = myweight)\n",
    "model.fit(X_train, y_train)\n",
    "y_pred = model.predict(X_test)\n",
    "print(f\"Accuracy of 7NN (customized weights): {100*accuracy_score(y_test, y_pred):.2f} %\")"
   ]
  },
  {
   "cell_type": "markdown",
   "id": "aa0f13b5",
   "metadata": {},
   "source": [
    "## Thảo luận\n",
    "- KNN không phù hợp với bộ dữ liệu lớn"
   ]
  }
 ],
 "metadata": {
  "kernelspec": {
   "display_name": "Python 3",
   "language": "python",
   "name": "python3"
  },
  "language_info": {
   "codemirror_mode": {
    "name": "ipython",
    "version": 3
   },
   "file_extension": ".py",
   "mimetype": "text/x-python",
   "name": "python",
   "nbconvert_exporter": "python",
   "pygments_lexer": "ipython3",
   "version": "3.10.11"
  }
 },
 "nbformat": 4,
 "nbformat_minor": 5
}
