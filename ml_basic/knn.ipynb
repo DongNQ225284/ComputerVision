{
 "cells": [
  {
   "cell_type": "markdown",
   "id": "94bf63cd",
   "metadata": {},
   "source": [
    "## K-NEAREST NEIGHBORS\n",
    "Từ một tập dữ liệu cho trước, khi có một dữ liệu mới, mô hình sẽ chọn ra K điểm dữ liệu gần nhất, sau đó xem xét nhãn của K điểm dữ liệu này và quyết định xem điểm mới này thuộc lớp nào?"
   ]
  },
  {
   "cell_type": "code",
   "execution_count": 60,
   "id": "f90260a9",
   "metadata": {},
   "outputs": [],
   "source": [
    "import numpy as np\n",
    "from sklearn import neighbors, datasets\n",
    "from sklearn.model_selection import train_test_split # for splitting data\n",
    "from sklearn.metrics import accuracy_score\n",
    "\n",
    "class Model:\n",
    "    def __init__(self, n_neighbors=1, p=2):\n",
    "        self.data   = None\n",
    "        self.target = None\n",
    "        self.n_neighbors = n_neighbors\n",
    "        self.p = p\n",
    "    \n",
    "    def fit(self, data, target):\n",
    "        self.data   = data\n",
    "        self.target = target\n",
    "        self.data2  = np.sum(data*data, axis=1)\n",
    "\n",
    "    def dist_ps_fast(self, data):\n",
    "        if self.p == 1:\n",
    "            return np.sum(np.abs(self.data - data))\n",
    "        if self.p == 2:\n",
    "            return self.data2 - 2 * self.data @ data\n",
    "    \n",
    "    def predict(self, dataset):\n",
    "        result = []\n",
    "        for data in dataset:\n",
    "            distances   = self.dist_ps_fast(data)        \n",
    "            indices     = np.argsort(distances)  \n",
    "            indices     = indices[:self.n_neighbors]\n",
    "            y_neighbors = [self.target[idx] for idx in indices]\n",
    "            result.append(round(np.mean(y_neighbors)))\n",
    "        return np.array(result)"
   ]
  },
  {
   "cell_type": "code",
   "execution_count": 61,
   "id": "37a6966f",
   "metadata": {},
   "outputs": [],
   "source": [
    "np.random.seed(7)\n",
    "iris = datasets.load_iris()\n",
    "iris_X = iris.data\n",
    "iris_y = iris.target\n",
    "X_train, X_test, y_train, y_test = train_test_split(iris_X, iris_y, test_size=130)"
   ]
  },
  {
   "cell_type": "markdown",
   "id": "5c69a26d",
   "metadata": {},
   "source": [
    "#### Sử dụng Model triển khai bên trên"
   ]
  },
  {
   "cell_type": "code",
   "execution_count": 62,
   "id": "9f83e46e",
   "metadata": {},
   "outputs": [
    {
     "name": "stdout",
     "output_type": "stream",
     "text": [
      "Accuracy of 1NN: 93.85 %\n"
     ]
    }
   ],
   "source": [
    "model = Model(n_neighbors=3, p=2)\n",
    "model.fit(X_train, y_train)\n",
    "y_pred = model.predict(X_test)\n",
    "print(\"Accuracy of 1NN: %.2f %%\" %(100*accuracy_score(y_test, y_pred)))"
   ]
  },
  {
   "cell_type": "markdown",
   "id": "275f42c0",
   "metadata": {},
   "source": [
    "#### Sử dụng Scikit-Learn"
   ]
  },
  {
   "cell_type": "code",
   "execution_count": 63,
   "id": "fa2d51d7",
   "metadata": {},
   "outputs": [
    {
     "name": "stdout",
     "output_type": "stream",
     "text": [
      "Accuracy of 1NN: 93.85 %\n"
     ]
    }
   ],
   "source": [
    "model = neighbors.KNeighborsClassifier(n_neighbors=3, p=2)\n",
    "model.fit(X_train, y_train)\n",
    "y_pred = model.predict(X_test)\n",
    "print(\"Accuracy of 1NN: %.2f %%\" %(100*accuracy_score(y_test, y_pred)))"
   ]
  },
  {
   "cell_type": "markdown",
   "id": "9d340cd6",
   "metadata": {},
   "source": [
    "### Trọng số"
   ]
  },
  {
   "cell_type": "markdown",
   "id": "c684b73c",
   "metadata": {},
   "source": [
    "Với thuật toán trước đó K hàng xóm gần điểm sẽ tiến hành biểu quyết, giá trị của các lá phiếu là công bằng như sau.  \n",
    "\n",
    "Tuy nhiên, chúng ta cũng có thể nghĩ rằng, những hàng xóm gần điểm dữ liệu hơn sẽ đáng tin cậy hơn, và ta có thể cho rằng lá phiếu của những người gần nhất sẽ đáng tin cậy nhất"
   ]
  },
  {
   "cell_type": "markdown",
   "id": "a5b066a2",
   "metadata": {},
   "source": [
    "#### Trọng số dựa trên khoảng cách"
   ]
  },
  {
   "cell_type": "code",
   "execution_count": 64,
   "id": "2d9be81f",
   "metadata": {},
   "outputs": [
    {
     "name": "stdout",
     "output_type": "stream",
     "text": [
      "Accuracy of 7NN (1/distance weights): 94.62 %\n"
     ]
    }
   ],
   "source": [
    "model = neighbors.KNeighborsClassifier(n_neighbors = 7, p = 2, weights='distance')\n",
    "model.fit(X_train, y_train)\n",
    "y_pred = model.predict(X_test)\n",
    "print(f\"Accuracy of 7NN (1/distance weights): {100*accuracy_score(y_test, y_pred):.2f} %\")"
   ]
  },
  {
   "cell_type": "markdown",
   "id": "03051057",
   "metadata": {},
   "source": [
    "#### Trọng số tự định nghĩa"
   ]
  },
  {
   "cell_type": "markdown",
   "id": "438a0941",
   "metadata": {},
   "source": [
    "Một các đánh trọng số khác thường được sử dụng\n",
    "\n",
    "$$\n",
    "w_i = \\exp\\left( \\frac{-\\|\\mathbf{z} - \\mathbf{x}_i \\|_2^2}{\\sigma^2} \\right)\n",
    "$$"
   ]
  },
  {
   "cell_type": "code",
   "execution_count": 65,
   "id": "4ff985a8",
   "metadata": {},
   "outputs": [
    {
     "name": "stdout",
     "output_type": "stream",
     "text": [
      "Accuracy of 7NN (customized weights): 94.62 %\n"
     ]
    }
   ],
   "source": [
    "def myweight(distances, sigma = 0.7):\n",
    "    return np.exp(-distances**2/sigma**2)\n",
    "\n",
    "model = neighbors.KNeighborsClassifier(n_neighbors = 7, p = 2, weights = myweight)\n",
    "model.fit(X_train, y_train)\n",
    "y_pred = model.predict(X_test)\n",
    "print(f\"Accuracy of 7NN (customized weights): {100*accuracy_score(y_test, y_pred):.2f} %\")"
   ]
  }
 ],
 "metadata": {
  "kernelspec": {
   "display_name": "Python 3",
   "language": "python",
   "name": "python3"
  },
  "language_info": {
   "codemirror_mode": {
    "name": "ipython",
    "version": 3
   },
   "file_extension": ".py",
   "mimetype": "text/x-python",
   "name": "python",
   "nbconvert_exporter": "python",
   "pygments_lexer": "ipython3",
   "version": "3.10.11"
  }
 },
 "nbformat": 4,
 "nbformat_minor": 5
}
