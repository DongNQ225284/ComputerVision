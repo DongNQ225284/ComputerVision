{
 "cells": [
  {
   "cell_type": "markdown",
   "id": "161e8b56",
   "metadata": {},
   "source": [
    "# Hồi quy tuyến tính\n",
    "\n",
    "Ý tưởng, cho một tập dữ liệu gồm nhiều feature, trong đó có một feature cần dự đoán. Bạn nhận thấy được mối quan hệ tuyến tính giữa feature cần dự đoán với các feature còn lại.\n",
    "\n",
    "#### Hàm dự đoán\n",
    "Ta có: \n",
    "$$\n",
    "\\hat{y} = w_0x_0 + ... + w_nx_n = \\mathbf{x}\\mathbf{w} \n",
    "$$\n",
    "\n",
    "Trong đó:\n",
    "- $\\mathbf{x} = [x_0, ..., x_n]$ là các Feature  \n",
    "- $\\mathbf{w} = [w_0, ..., w_n]^T$ là trọng số tương ứng\n",
    "\n",
    "#### Hàm mất mát  \n",
    "Thể hiện sai số giữa giá trị dự đoán của mô hình với giá trị thực tế trên tập dữ liệu huấn luyện (traning set)\n",
    "\n",
    "Trong mô hình Linear Regression, hàm mất mát được sử dụng là MSE (Mean Square Error) có công thức như sau:  \n",
    "$$\n",
    "\\mathcal{L}(\\mathbf{w}) \n",
    "= \\frac{1}{2N}\\sum_{i = 1}^N{(y_i - \\hat{y_i})^2}   \n",
    "= \\frac{1}{2N}\\sum_{i = 1}^N{(y_i - \\mathbf{x}_i\\mathbf{w})^2}$$\n",
    "\n",
    "Trong đó:\n",
    "- $N$ là số dữ liệu trong traning set\n",
    "\n",
    "Mục tiêu của chúng ta là đi tối thiểu hóa hàm mất mát hay chính là đi tìm nghiệm của phương trình:  \n",
    "$$\n",
    "\\mathbf{w}^* = \\argmin_{\\mathbf{w}} \\mathcal{L}(\\mathbf{w}) \n",
    "$$\n",
    "\n",
    "Ta có:\n",
    "$$\n",
    "\\mathcal{L}(\\mathbf{w}) \n",
    "= \\frac{1}{2N}\\sum_{i = 1}^N{(y_i - \\mathbf{x}_i\\mathbf{w})^2}\n",
    "= \\frac{1}{2N} \n",
    "\\left\\|\n",
    "\\begin{bmatrix}\n",
    "y_1 \\\\\n",
    "... \\\\\n",
    "y_N\n",
    "\\end{bmatrix}\n",
    "-\n",
    "\\begin{bmatrix}\n",
    "\\mathbf{x}_1\\mathbf{w} \\\\\n",
    "... \\\\\n",
    "\\mathbf{x}_N\\mathbf{w}\n",
    "\\end{bmatrix}\n",
    "\\right\\|_2^2\n",
    "= \\frac{1}{2N} \\| \\mathbf{y} - \\mathbf{X}\\mathbf{w} \\|_2^2\n",
    "$$\n",
    "\n",
    "Xét: \n",
    "$$\n",
    "\\frac{\\partial \\mathcal{L}}{\\partial \\mathbf{w}} \n",
    "= \\frac{1}{N}\\mathbf{X}^T(\\mathbf{X}\\mathbf{w} - \\mathbf{y}) \n",
    "= 0\n",
    "$$\n",
    "$$\n",
    "\\Leftrightarrow \\mathbf{X}^T(\\mathbf{X}\\mathbf{w} - \\mathbf{y}) = 0\n",
    "$$\n",
    "$$\n",
    "\\Leftrightarrow \\mathbf{X}^T\\mathbf{X}\\mathbf{w} = \\mathbf{X}^T\\mathbf{y}\n",
    "$$\n",
    "$$\n",
    "\\Leftrightarrow \\mathbf{w} = (\\mathbf{X}^T\\mathbf{X})^+\\mathbf{X}^T\\mathbf{y}\n",
    "$$\n",
    "\n",
    "Với: $\\mathbf{A}^+$ được gọi là giả nghịch đảo của $\\mathbf{A}$ \n",
    "\n",
    "\n"
   ]
  },
  {
   "cell_type": "markdown",
   "id": "39979624",
   "metadata": {},
   "source": [
    "### Ví dụ\n",
    "\n",
    "Xây dựng mô hình dự đoán cân nặng theo chiều cao, với số liệu được cho trước\n",
    "\n",
    "$$\n",
    "\\begin{array}{|c|c||c|c|}\n",
    "\\hline\n",
    "\\text{Chiều cao (cm)} & \\text{Cân nặng (kg)} & \\text{Chiều cao (cm)} & \\text{Cân nặng (kg)} \\\\\n",
    "\\hline\n",
    "147 & 49 & 168 & 60 \\\\\n",
    "150 & 50 & 170 & 72 \\\\\n",
    "153 & 51 & 173 & 63 \\\\\n",
    "155 & 52 & 175 & 64 \\\\\n",
    "158 & 54 & 178 & 66 \\\\\n",
    "160 & 56 & 180 & 67 \\\\\n",
    "163 & 58 & 183 & 68 \\\\\n",
    "165 & 59 &      &    \\\\\n",
    "\\hline\n",
    "\\end{array}\n",
    "$$\n"
   ]
  },
  {
   "cell_type": "markdown",
   "id": "c157494b",
   "metadata": {},
   "source": [
    "#### Sử dụng Toán"
   ]
  },
  {
   "cell_type": "code",
   "execution_count": 121,
   "id": "cef617bb",
   "metadata": {},
   "outputs": [],
   "source": [
    "import numpy as np\n",
    "import matplotlib.pyplot as plt\n",
    "\n",
    "class Model:\n",
    "    def __init__(self):\n",
    "        self.w = None\n",
    "        self.coef_ = None\n",
    "        self.intercept_ = None\n",
    "\n",
    "    def fit(self, X, y_true):\n",
    "        one = np.ones((X.shape[0], 1))\n",
    "        Xbar = np.concatenate((one, X), axis = 1)\n",
    "        self.w = np.linalg.pinv(Xbar.T @ Xbar) @ (Xbar.T @ y_true)\n",
    "        self.intercept_ = self.w[0]\n",
    "        self.coef_ = self.w[1:]\n",
    "    \n",
    "    def predict(self, data):\n",
    "        X = data.reshape(-1, 1)\n",
    "        one = np.ones((X.shape[0], 1))\n",
    "        Xbar = np.concatenate((one, X), axis = 1)\n",
    "        return Xbar @ self.w \n",
    "    \n",
    "    def show(self):\n",
    "        return self.coef_"
   ]
  },
  {
   "cell_type": "code",
   "execution_count": 122,
   "id": "c6ae9722",
   "metadata": {},
   "outputs": [
    {
     "name": "stdout",
     "output_type": "stream",
     "text": [
      "[[52.94135889]\n",
      " [55.7373837 ]]\n"
     ]
    }
   ],
   "source": [
    "\n",
    "# height (cm), input data, each row is a data point\n",
    "X = np.array([[147, 150, 153, 158, 163, 165, 168, 170, 173, 175, 178, 180, 183]]).T\n",
    "# weight (kg)\n",
    "y = np.array([[ 49,  50,  51,  54,  58,  59,  60,  62,  63,  64,  66,  67,  68]]).T\n",
    "\n",
    "model = Model()\n",
    "model.fit(X, y)\n",
    "X_test = np.array([[155], [160]])\n",
    "y_pred = model.predict(X_test)\n",
    "print(y_pred)\n"
   ]
  },
  {
   "cell_type": "markdown",
   "id": "c8eabc26",
   "metadata": {},
   "source": [
    "#### Sử dụng Scikit-Learn"
   ]
  },
  {
   "cell_type": "code",
   "execution_count": 123,
   "id": "411f52b2",
   "metadata": {},
   "outputs": [
    {
     "name": "stdout",
     "output_type": "stream",
     "text": [
      "[[52.94135889]\n",
      " [55.7373837 ]]\n"
     ]
    }
   ],
   "source": [
    "from sklearn import datasets, linear_model\n",
    "regr = linear_model.LinearRegression()\n",
    "regr.fit(X, y) # in scikit-learn, each sample is one row\n",
    "X_test = np.array([[155], [160]])\n",
    "y_pred = regr.predict(X_test)\n",
    "print(y_pred)"
   ]
  },
  {
   "cell_type": "markdown",
   "id": "92f1e012",
   "metadata": {},
   "source": [
    "#### So sánh Kết quả"
   ]
  },
  {
   "cell_type": "code",
   "execution_count": null,
   "id": "a2c9c35b",
   "metadata": {},
   "outputs": [
    {
     "name": "stdout",
     "output_type": "stream",
     "text": [
      "Scikit-learn’s solution:\n",
      "w_1 = [[0.55920496]], w_0 = [-33.73541021]\n",
      "Our solution:\n",
      "w_1 = [[0.55920496]], w_0 = [-33.73541021]\n"
     ]
    }
   ],
   "source": [
    "print(f\"Scikit-learn’s solution:\\nw_1 = {regr.coef_}, w_0 = {regr.intercept_}\")\n",
    "print(f\"Our solution:\\nw_1 = {model.coef_}, w_0 = {model.intercept_}\")"
   ]
  },
  {
   "cell_type": "markdown",
   "id": "e60806e4",
   "metadata": {},
   "source": [
    "### Thảo luận"
   ]
  },
  {
   "cell_type": "markdown",
   "id": "235d26f3",
   "metadata": {},
   "source": [
    "#### Các bài toán có thể sử dụng Linear Regession"
   ]
  },
  {
   "cell_type": "markdown",
   "id": "5d632b60",
   "metadata": {},
   "source": [
    "#### Hạn chế của Linear Regession"
   ]
  },
  {
   "cell_type": "markdown",
   "id": "73ea595f",
   "metadata": {},
   "source": [
    "#### Ridge Regression"
   ]
  }
 ],
 "metadata": {
  "kernelspec": {
   "display_name": "Python 3",
   "language": "python",
   "name": "python3"
  },
  "language_info": {
   "codemirror_mode": {
    "name": "ipython",
    "version": 3
   },
   "file_extension": ".py",
   "mimetype": "text/x-python",
   "name": "python",
   "nbconvert_exporter": "python",
   "pygments_lexer": "ipython3",
   "version": "3.10.11"
  }
 },
 "nbformat": 4,
 "nbformat_minor": 5
}
