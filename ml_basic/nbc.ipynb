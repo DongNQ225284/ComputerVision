{
 "cells": [
  {
   "cell_type": "markdown",
   "id": "3c34f1c8",
   "metadata": {},
   "source": [
    "#  Naive Bayes classifier"
   ]
  }
 ],
 "metadata": {
  "kernelspec": {
   "display_name": "Python 3",
   "language": "python",
   "name": "python3"
  },
  "language_info": {
   "name": "python",
   "version": "3.10.11"
  }
 },
 "nbformat": 4,
 "nbformat_minor": 5
}
