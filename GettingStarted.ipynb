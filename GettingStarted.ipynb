{
 "cells": [
  {
   "cell_type": "markdown",
   "id": "39150d2a",
   "metadata": {},
   "source": [
    "### Cơ bản về Git Flow\n",
    "#### Khởi tạo Git Flow\n",
    "git flow init  \n",
    "\n",
    "#### Tạo nhánh tính năng (feature): \n",
    "git flow feature start ten-tinh-nang\n",
    "\\# Làm việc -> commit\n",
    "git flow feature finish ten-tinh-nam\n",
    "\n",
    "#### Tạo nhánh phát hành  \n",
    "git flow release start v1.0\n",
    "\\# Test -> commit\n",
    "git flow release finish v1.0\n",
    "\n",
    "#### Tạo nhánh sửa lỗi khẩn cấp (hotfix)  \n",
    "git flow hotfix start fix-loi\n",
    "\\# Sửa lỗi -> commit\n",
    "git flow hotfix finish fix-loi"
   ]
  }
 ],
 "metadata": {
  "language_info": {
   "name": "python"
  }
 },
 "nbformat": 4,
 "nbformat_minor": 5
}
