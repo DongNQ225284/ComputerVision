{
 "cells": [
  {
   "cell_type": "markdown",
   "id": "39150d2a",
   "metadata": {},
   "source": [
    "Hello world"
   ]
  }
 ],
 "metadata": {
  "language_info": {
   "name": "python"
  }
 },
 "nbformat": 4,
 "nbformat_minor": 5
}
