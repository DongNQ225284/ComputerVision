{
 "cells": [
  {
   "cell_type": "markdown",
   "id": "39150d2a",
   "metadata": {},
   "source": [
    "### **Cơ bản về Git Flow**\n",
    "\n",
    "#### *Khởi tạo Git Flow*\n",
    "```bash \n",
    "git flow init\n",
    "```\n",
    "#### *Tạo nhánh tính năng (feature)* \n",
    "```bash\n",
    "git flow feature start ten-tinh-nang  \n",
    "# Làm việc -> commit  \n",
    "git flow feature finish ten-tinh-nam   \n",
    "```\n",
    "#### *Tạo nhánh phát hành*  \n",
    "```bash\n",
    "git flow release start v1.0  \n",
    "# Test -> commit  \n",
    "git flow release finish v1.0  \n",
    "```\n",
    "\n",
    "#### *Tạo nhánh sửa lỗi khẩn cấp (hotfix)*  \n",
    "```bash\n",
    "git flow hotfix start fix-loi  \n",
    "# Sửa lỗi -> commit  \n",
    "git flow hotfix finish fix-loi  \n",
    "```\n",
    "\n",
    "### **Một số lỗi ghi gặp**\n",
    "#### *Lỗi về `git flow init`*  \n",
    "```bash\n",
    "git flow init  \n",
    "Fatal: Working tree contains unstaged changes. Aborting.  \n",
    "```\n",
    "*Lỗi này xuất hiện khi folder có sự thay đổi nhưng chưa commit (unstaged changes), nên `git flow init` không thể tiếp tục.*  \n",
    "\n",
    "**Các bước khắc phục:**  \n",
    "**B1**. Kiểm tra sự thay đổi:  \n",
    "```bash\n",
    "git status\n",
    "```  \n",
    "**B2**. Commit cách thay đổi:  \n",
    "```bash\n",
    "git add .\n",
    "git commit -m \"upload\" \n",
    "```\n",
    "**Hoặc hủy bỏ thay đổi nếu cần**\n",
    "```bash\n",
    "git restore .\n",
    "```\n",
    " \n"
   ]
  }
 ],
 "metadata": {
  "language_info": {
   "name": "python"
  }
 },
 "nbformat": 4,
 "nbformat_minor": 5
}
