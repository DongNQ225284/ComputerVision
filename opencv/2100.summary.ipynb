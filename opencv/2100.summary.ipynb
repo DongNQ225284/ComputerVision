{
 "cells": [
  {
   "cell_type": "markdown",
   "id": "2fb5de31",
   "metadata": {},
   "source": [
    "# Tóm tắt"
   ]
  },
  {
   "cell_type": "markdown",
   "id": "12ea2474",
   "metadata": {},
   "source": [
    "### Các thư viện thường sử dụng khi làm việc với ảnh"
   ]
  },
  {
   "cell_type": "code",
   "execution_count": null,
   "id": "59e8ced1",
   "metadata": {},
   "outputs": [],
   "source": [
    "import cv2                          # thao tác với ảnh\n",
    "import numpy as np                  # thao tác với ma trận\n",
    "import matplotlib.pyplot as plt     # hiển thị ảnh\n",
    "from IPython.display import Image   # hiển thị ảnh"
   ]
  },
  {
   "cell_type": "markdown",
   "id": "8cc14236",
   "metadata": {},
   "source": [
    "### Các thao tác với ảnh"
   ]
  },
  {
   "cell_type": "markdown",
   "id": "2de238c7",
   "metadata": {},
   "source": [
    "#### Đọc ảnh\n",
    "\n",
    "* Lưu ý kết quả trả về là một ma trận (b, g, r)"
   ]
  },
  {
   "cell_type": "code",
   "execution_count": null,
   "id": "e629836b",
   "metadata": {},
   "outputs": [],
   "source": [
    "# Đọc ảnh\n",
    "image_bgr = cv2.imread(\"image/coca-cola-logo.png\")"
   ]
  },
  {
   "cell_type": "markdown",
   "id": "e594a900",
   "metadata": {},
   "source": [
    "#### Hiển thị ảnh\n",
    "\n",
    "* Lưu ý `matplot` hiển thị ảnh dưới dạng (r, g, b)"
   ]
  },
  {
   "cell_type": "code",
   "execution_count": null,
   "id": "115a6afa",
   "metadata": {},
   "outputs": [],
   "source": [
    "# Hiển thị trực tiếp\n",
    "Image(filename=\"image/coca-cola-logo.png\")"
   ]
  },
  {
   "cell_type": "code",
   "execution_count": null,
   "id": "3cd8e9cb",
   "metadata": {},
   "outputs": [],
   "source": [
    "# Hiển thị bằng thông qua matplot\n",
    "plt.imshow(image_bgr)"
   ]
  },
  {
   "cell_type": "markdown",
   "id": "1f97b51e",
   "metadata": {},
   "source": [
    "#### Thông số của ảnh"
   ]
  },
  {
   "cell_type": "code",
   "execution_count": null,
   "id": "929c77e6",
   "metadata": {},
   "outputs": [],
   "source": [
    "print(image_bgr.shape)\n",
    "print(f\"Chiều dài: {image_bgr.shape[0]}\")\n",
    "print(f\"Chiều cao: {image_bgr.shape[1]}\")\n",
    "print(f\"Chiều sâu: {image_bgr.shape[2]}\")"
   ]
  },
  {
   "cell_type": "markdown",
   "id": "3fc3d535",
   "metadata": {},
   "source": [
    "#### Chuyển đổi kênh màu"
   ]
  },
  {
   "cell_type": "code",
   "execution_count": null,
   "id": "c28d15b7",
   "metadata": {},
   "outputs": [],
   "source": [
    "image_rgb = cv2.cvtColor(image_bgr, cv2.COLOR_BGR2RGB)\n",
    "plt.subplot(121); plt.imshow(image_bgr); plt.title(\"BGR\")\n",
    "plt.subplot(122); plt.imshow(image_rgb); plt.title(\"RGB\")"
   ]
  },
  {
   "cell_type": "markdown",
   "id": "9e0a57c4",
   "metadata": {},
   "source": [
    "### Chia kênh & Hợp kênh"
   ]
  },
  {
   "cell_type": "code",
   "execution_count": null,
   "id": "855f3be8",
   "metadata": {},
   "outputs": [],
   "source": [
    "# Chia kênh\n",
    "b, g, r = cv2.split(image_bgr)\n",
    "\n",
    "# Hợp kênh\n",
    "image_rgb = cv2.merge((r, g, b))\n",
    "\n",
    "plt.figure(figsize=[15, 5])\n",
    "plt.subplot(141); plt.imshow(r, cmap=\"gray\"); plt.title(\"Red chanel\")\n",
    "plt.subplot(142); plt.imshow(g, cmap=\"gray\"); plt.title(\"Green chanel\")\n",
    "plt.subplot(143); plt.imshow(b, cmap=\"gray\"); plt.title(\"Blue chanel\")\n",
    "plt.subplot(144); plt.imshow(image_rgb);      plt.title(\"RGB\")"
   ]
  },
  {
   "cell_type": "markdown",
   "id": "a7c39301",
   "metadata": {},
   "source": [
    "#### Chú thích ảnh"
   ]
  },
  {
   "cell_type": "code",
   "execution_count": null,
   "id": "cec6d740",
   "metadata": {},
   "outputs": [],
   "source": [
    "apollo_bgr = cv2.imread(\"image/Apollo_11_Launch.jpg\", cv2.IMREAD_COLOR)\n",
    "apollo     = cv2.cvtColor(apollo_bgr, cv2.COLOR_BGR2RGB)\n",
    "# Vẽ một đường thẳng\n",
    "cv2.line(apollo, (200, 100), (400, 100), (0, 255, 255), thickness=5, lineType=cv2.LINE_AA)\n",
    "\n",
    "# Vẽ đường tròn\n",
    "cv2.circle(apollo, (900,500), 100, (0, 0, 255), thickness=0, lineType=cv2.LINE_AA)\n",
    "\n",
    "# Vẽ hình chữ nhật\n",
    "cv2.rectangle(apollo, (500, 100), (700, 600), (255, 0, 255), thickness=1, lineType=cv2.LINE_8)\n",
    "\n",
    "# Thêm văn bản cho ảnh\n",
    "text = \"Apollo 11 Saturn V Launch, July 16, 1969\"\n",
    "fontScale = 2.3\n",
    "fontFace = cv2.FONT_HERSHEY_PLAIN\n",
    "fontColor = (0, 255, 0)\n",
    "fontThickness = 2\n",
    "cv2.putText(apollo, text, (200, 700), fontFace, fontScale, fontColor, fontThickness, cv2.LINE_AA);\n",
    "\n",
    "plt.imshow(apollo)"
   ]
  },
  {
   "cell_type": "markdown",
   "id": "7bf91d66",
   "metadata": {},
   "source": [
    "### Các phép toán cơ bản với ảnh"
   ]
  },
  {
   "cell_type": "code",
   "execution_count": null,
   "id": "49270532",
   "metadata": {},
   "outputs": [],
   "source": [
    "# Phép cộng ảnh : Cộng giá trị của 2 phần tử tương ứng, nếu vượt quá 255 thì tự động làm tròn xuống"
   ]
  },
  {
   "cell_type": "code",
   "execution_count": 3,
   "id": "bf16832a",
   "metadata": {},
   "outputs": [
    {
     "name": "stdout",
     "output_type": "stream",
     "text": [
      "Current dir: c:\\Users\\FPT\\OneDrive_HUST\\Desktop\\ComputerVision\\opencv\n",
      "deploy.prototxt tồn tại: True\n",
      "caffemodel tồn tại: True\n",
      "Mạng đã được nạp thành công!\n"
     ]
    }
   ],
   "source": [
    "import cv2\n",
    "import os\n",
    "\n",
    "print(\"Current dir:\", os.getcwd())\n",
    "print(\"deploy.prototxt tồn tại:\", os.path.exists(\"model/deploy.prototxt\"))\n",
    "print(\"caffemodel tồn tại:\", os.path.exists(\"model/res10_300x300_ssd_iter_140000_fp16.caffemodel\"))\n",
    "\n",
    "net = cv2.dnn.readNetFromCaffe(\n",
    "    \"model/deploy.prototxt\",\n",
    "    \"model/res10_300x300_ssd_iter_140000_fp16.caffemodel\"\n",
    ")\n",
    "\n",
    "print(\"Mạng đã được nạp thành công!\")"
   ]
  },
  {
   "cell_type": "code",
   "execution_count": null,
   "id": "06cb3cf6",
   "metadata": {},
   "outputs": [],
   "source": []
  }
 ],
 "metadata": {
  "kernelspec": {
   "display_name": "Python 3",
   "language": "python",
   "name": "python3"
  },
  "language_info": {
   "codemirror_mode": {
    "name": "ipython",
    "version": 3
   },
   "file_extension": ".py",
   "mimetype": "text/x-python",
   "name": "python",
   "nbconvert_exporter": "python",
   "pygments_lexer": "ipython3",
   "version": "3.10.11"
  }
 },
 "nbformat": 4,
 "nbformat_minor": 5
}
