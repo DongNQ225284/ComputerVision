{
 "cells": [
  {
   "cell_type": "markdown",
   "id": "7527be6a",
   "metadata": {},
   "source": [
    "# Kỹ thuật đo lường và cải tiến hiệu suất - Performance Measurement and Improvement Techniques"
   ]
  },
  {
   "cell_type": "markdown",
   "id": "32fc25c4",
   "metadata": {},
   "source": [
    "Trong xử lý hình ảnh, vì bạn phải xử lý một số lượng lớn các phép toán mỗi giây, nên bắt buộc mã của bạn không chỉ cung cấp giải pháp chính xác mà còn phải cung cấp giải pháp theo cách nhanh nhất. \n",
    "\n",
    "Vì vậy, trong chương này, bạn sẽ tìm hiểu:\n",
    "- Cách đo hiệu suất của code.\n",
    "- Một số mẹo để cải thiện hiệu suất của mã.\n",
    "Bạn sẽ thấy các hàm này: `getTickCount`,`getTickFrequency`, v.v.\n",
    "\n",
    "Ngoài OpenCV, Python còn cung cấp một mô-đun time hữu ích trong việc đo thời gian thực thi. Một cấu hình mô-đun khác giúp có được báo cáo chi tiết về mã, chẳng hạn như thời gian thực hiện từng hàm trong mã, số lần gọi hàm, v.v. Nhưng nếu bạn đang sử dụng IPython, tất cả các tính năng này đều được tích hợp theo cách thân thiện với người dùng. Chúng ta sẽ xem một số tính năng quan trọng và để biết thêm chi tiết, hãy kiểm tra các liên kết trong phần **OpenCV Tour**"
   ]
  },
  {
   "cell_type": "code",
   "execution_count": 1,
   "id": "7e13ec7b",
   "metadata": {},
   "outputs": [],
   "source": [
    "import cv2\n",
    "import numpy as np"
   ]
  },
  {
   "cell_type": "markdown",
   "id": "9eedd673",
   "metadata": {},
   "source": [
    "## Đo hiệu suất với OpenCV\n",
    "Hàm `getTickCount` trả về số chu kỳ xung nhịp sau một sự kiện tham chiếu (như thời điểm máy được BẬT) cho đến thời điểm hàm này được gọi. Vì vậy, nếu bạn gọi nó trước và sau khi thực thi hàm, bạn sẽ nhận được số chu kỳ xung nhịp được sử dụng để thực thi một hàm.\n",
    "### Cú pháp hàm\n",
    "```python\n",
    "ticks = cv2.getTickCount()\n",
    "```\n",
    "Giải thích:\n",
    "- `ticks`: Giá trị trả về là số chu kỳ xung nhịp (tick) kể từ một thời điểm tham chiếu (thường là khi máy tính khởi động).\n",
    "- Thường dùng để đo thời gian thực thi một đoạn mã bằng cách lấy hiệu giữa hai lần gọi getTickCount()."
   ]
  },
  {
   "cell_type": "markdown",
   "id": "4f742400",
   "metadata": {},
   "source": [
    "Hàm `getTickFrequency` trả về tần suất của chu kỳ xung nhịp hoặc số chu kỳ xung nhịp mỗi giây. Vì vậy, để tìm thời gian thực thi tính bằng giây, bạn có thể thực hiện như sau:\n",
    "### Cú pháp hàm\n",
    "```python\n",
    "freq = cv2.getTickFrequency()\n",
    "```\n",
    "Giải thích:  \n",
    "- `freq`: Giá trị trả về là tần số của bộ đếm tick, tức là số chu kỳ tick trên mỗi giây (đơn vị: Hz).\n",
    "- Thường dùng kết hợp với getTickCount() để tính thời gian thực thi (thời gian = số tick / freq)."
   ]
  },
  {
   "cell_type": "markdown",
   "id": "79e90901",
   "metadata": {},
   "source": [
    "Chúng tôi sẽ chứng minh bằng ví dụ sau. Ví dụ sau áp dụng lọc trung vị với các hạt nhân có kích thước lẻ từ 5 đến 49. (Đừng lo lắng về kết quả sẽ như thế nào - đó không phải là mục tiêu của chúng tôi):"
   ]
  },
  {
   "cell_type": "markdown",
   "id": "2e513a0a",
   "metadata": {},
   "source": [
    "> Lưu ý\n",
    "Bạn có thể làm điều tương tự với mô-đun time. Thay vì `getTickCount`, hãy sử dụng hàm `time.time()`. Sau đó, lấy hiệu số của hai thời gian."
   ]
  },
  {
   "cell_type": "code",
   "execution_count": 7,
   "id": "344dc516",
   "metadata": {},
   "outputs": [
    {
     "name": "stdout",
     "output_type": "stream",
     "text": [
      "Time taken: 0.886391 seconds\n"
     ]
    }
   ],
   "source": [
    "e1 = cv2.getTickCount()\n",
    "# code\n",
    "src = cv2.imread(\"images/violet.jpg\", cv2.IMREAD_COLOR)\n",
    "for i in range(5,49,2):\n",
    "    src = cv2.medianBlur(src,i)\n",
    "# end of code\n",
    "e2 = cv2.getTickCount()\n",
    "time = (e2 - e1)/ cv2.getTickFrequency()\n",
    "print(\"Time taken: {:.6f} seconds\".format(time))"
   ]
  },
  {
   "cell_type": "markdown",
   "id": "26a9ff0a",
   "metadata": {},
   "source": [
    "## Tối ưu hóa mặc định trong OpenCV"
   ]
  },
  {
   "cell_type": "markdown",
   "id": "0dc9d49a",
   "metadata": {},
   "source": [
    "Nhiều hàm OpenCV được tối ưu hóa bằng SSE2, AVX, v.v. Nó cũng chứa mã chưa được tối ưu hóa. Vì vậy, nếu hệ thống của chúng ta hỗ trợ các tính năng này, chúng ta nên khai thác chúng (hầu hết các bộ xử lý hiện đại đều hỗ trợ chúng). Nó được bật theo mặc định trong khi biên dịch. Vì vậy, OpenCV chạy mã đã được tối ưu hóa nếu nó được bật, nếu không, nó sẽ chạy mã chưa được tối ưu hóa. Bạn có thể sử dụng `useOptimized()` để kiểm tra xem nó đã được bật/tắt chưa và `setUseOptimized()` để bật/tắt nó. Hãy cùng xem một ví dụ đơn giản."
   ]
  },
  {
   "cell_type": "code",
   "execution_count": 11,
   "id": "049c866d",
   "metadata": {},
   "outputs": [
    {
     "name": "stdout",
     "output_type": "stream",
     "text": [
      "Time taken: 0.860005 seconds\n"
     ]
    }
   ],
   "source": [
    "cv2.setUseOptimized(False)\n",
    "cv2.useOptimized()\n",
    "\n",
    "e1 = cv2.getTickCount()\n",
    "# code\n",
    "src = cv2.imread(\"images/violet.jpg\", cv2.IMREAD_COLOR)\n",
    "for i in range(5,49,2):\n",
    "    src = cv2.medianBlur(src,i)\n",
    "# end of code\n",
    "e2 = cv2.getTickCount()\n",
    "time = (e2 - e1)/ cv2.getTickFrequency()\n",
    "print(\"Time taken: {:.6f} seconds\".format(time))"
   ]
  },
  {
   "cell_type": "markdown",
   "id": "7bf4c62e",
   "metadata": {},
   "source": [
    "Như bạn thấy, bộ lọc trung vị được tối ưu hóa nhanh hơn so với phiên bản chưa được tối ưu hóa. Nếu bạn kiểm tra nguồn của nó, bạn có thể thấy rằng bộ lọc trung vị được tối ưu hóa SIMD. Vì vậy, bạn có thể sử dụng điều này để bật tối ưu hóa ở đầu mã của mình (hãy nhớ rằng nó được bật theo mặc định)."
   ]
  },
  {
   "cell_type": "markdown",
   "id": "248da21b",
   "metadata": {},
   "source": [
    "## Đo lường hiệu suất trong IPython"
   ]
  },
  {
   "cell_type": "markdown",
   "id": "b27f2332",
   "metadata": {},
   "source": [
    "Đôi khi bạn có thể cần so sánh hiệu suất của hai phép toán tương tự. IPython cung cấp cho bạn lệnh timeit để thực hiện phép toán này. Lệnh này chạy mã nhiều lần để có kết quả chính xác hơn. Một lần nữa, lệnh này phù hợp để đo các dòng mã đơn lẻ.\n",
    "\n",
    "Ví dụ, bạn có biết phép toán cộng nào sau đây tốt hơn không? \n",
    "```python\n",
    "x = 5; y = x**2  \n",
    "x = 5; y = x*x\n",
    "x = np.uint8([5]); y = x*x\n",
    "x = np.unit8([5]); y = np.square(x)\n",
    "```\n",
    "Chúng ta sẽ tìm hiểu bằng lệnh timeit trong shell IPython."
   ]
  },
  {
   "cell_type": "markdown",
   "id": "c32cb99f",
   "metadata": {},
   "source": [
    "```shell\n",
    "In [10]: x = 5\n",
    " \n",
    "In [11]: %timeit y=x**2\n",
    "10000000 loops, best of 3: 73 ns per loop\n",
    " \n",
    "In [12]: %timeit y=x*x\n",
    "10000000 loops, best of 3: 58.3 ns per loop\n",
    " \n",
    "In [15]: z = np.uint8([5])\n",
    " \n",
    "In [17]: %timeit y=z*z\n",
    "1000000 loops, best of 3: 1.25 us per loop\n",
    " \n",
    "In [19]: %timeit y=np.square(z)\n",
    "1000000 loops, best of 3: 1.16 us per loop\n",
    "```"
   ]
  },
  {
   "cell_type": "markdown",
   "id": "db85e678",
   "metadata": {},
   "source": [
    "Bạn có thể thấy rằng, x = 5; y = x*x là nhanh nhất và nhanh hơn khoảng 20 lần so với Numpy. Nếu bạn cũng xem xét việc tạo mảng, nó có thể nhanh hơn tới 100 lần. Tuyệt, phải không? (Các nhà phát triển Numpy đang giải quyết vấn đề này)"
   ]
  },
  {
   "cell_type": "markdown",
   "id": "c0851347",
   "metadata": {},
   "source": [
    "> Lưu ý\n",
    "Các phép toán vô hướng Python nhanh hơn các phép toán vô hướng Numpy. Vì vậy, đối với các phép toán bao gồm một hoặc hai phần tử, vô hướng Python tốt hơn các mảng Numpy. Numpy có lợi thế khi kích thước của mảng lớn hơn một chút."
   ]
  },
  {
   "cell_type": "markdown",
   "id": "040aa58c",
   "metadata": {},
   "source": [
    "Chúng ta sẽ thử thêm một ví dụ nữa. Lần này, chúng ta sẽ so sánh hiệu suất của `cv2.countNonZero()` và np.`count_nonzero()` cho cùng một hình ảnh."
   ]
  },
  {
   "cell_type": "markdown",
   "id": "cd1c2f86",
   "metadata": {},
   "source": [
    "```shell\n",
    "In [35]: %timeit z = cv.countNonZero(img)\n",
    "100000 loops, best of 3: 15.8 us per loop\n",
    " \n",
    "In [36]: %timeit z = np.count_nonzero(img)\n",
    "1000 loops, best of 3: 370 us per loop\n",
    "```"
   ]
  },
  {
   "cell_type": "markdown",
   "id": "f9098c74",
   "metadata": {},
   "source": [
    "Bạn thấy đấy, hàm OpenCV nhanh hơn hàm Numpy gần 25 lần."
   ]
  },
  {
   "cell_type": "markdown",
   "id": "1c864d00",
   "metadata": {},
   "source": [
    "> Lưu ý\n",
    "Thông thường, hàm OpenCV nhanh hơn hàm Numpy. Vì vậy, đối với cùng một hoạt động, hàm OpenCV được ưu tiên hơn. Tuy nhiên, có thể có ngoại lệ, đặc biệt là khi Numpy hoạt động với chế độ xem thay vì bản sao."
   ]
  },
  {
   "cell_type": "markdown",
   "id": "8109b573",
   "metadata": {},
   "source": [
    "## Thêm lệnh đặc biệt IPython"
   ]
  },
  {
   "cell_type": "markdown",
   "id": "67f6fa73",
   "metadata": {},
   "source": [
    "Có một số lệnh ma thuật khác để đo hiệu suất, profiling, line profiling, đo bộ nhớ, v.v. Tất cả đều được ghi chép đầy đủ. Vì vậy, chỉ có các liên kết đến các tài liệu đó được cung cấp ở đây. Độc giả quan tâm được khuyến nghị dùng thử."
   ]
  },
  {
   "cell_type": "markdown",
   "id": "dc2ff464",
   "metadata": {},
   "source": [
    "## Kỹ thuật tối ưu hóa hiệu suất"
   ]
  },
  {
   "cell_type": "markdown",
   "id": "bbe03bd2",
   "metadata": {},
   "source": [
    "Có một số kỹ thuật và phương pháp mã hóa để khai thác hiệu suất tối đa của Python và Numpy. Chỉ những kỹ thuật và phương pháp có liên quan được ghi chú ở đây và các liên kết được cung cấp đến các nguồn quan trọng. Điều chính cần lưu ý ở đây là, trước tiên hãy thử triển khai thuật toán theo cách đơn giản. Khi nó hoạt động, hãy lập hồ sơ, tìm các nút thắt và tối ưu hóa chúng."
   ]
  },
  {
   "cell_type": "markdown",
   "id": "6f6d54c4",
   "metadata": {},
   "source": [
    "1. Tránh sử dụng vòng lặp trong Python càng nhiều càng tốt, đặc biệt là vòng lặp đôi/ba, v.v. Chúng vốn chậm.\n",
    "2. Vector hóa thuật toán/mã ở mức tối đa có thể, vì Numpy và OpenCV được tối ưu hóa cho các hoạt động vector.\n",
    "3. Khai thác tính nhất quán của bộ đệm.\n",
    "4. Không bao giờ tạo bản sao của một mảng trừ khi cần thiết. Thay vào đó, hãy thử sử dụng chế độ xem. Sao chép mảng là một hoạt động tốn kém."
   ]
  },
  {
   "cell_type": "markdown",
   "id": "5704f790",
   "metadata": {},
   "source": [
    "Nếu mã của bạn vẫn chậm sau khi thực hiện tất cả các thao tác này hoặc nếu việc sử dụng các vòng lặp lớn là không thể tránh khỏi, hãy sử dụng các thư viện bổ sung như Cython để làm cho mã nhanh hơn."
   ]
  }
 ],
 "metadata": {
  "kernelspec": {
   "display_name": "Python 3",
   "language": "python",
   "name": "python3"
  },
  "language_info": {
   "codemirror_mode": {
    "name": "ipython",
    "version": 3
   },
   "file_extension": ".py",
   "mimetype": "text/x-python",
   "name": "python",
   "nbconvert_exporter": "python",
   "pygments_lexer": "ipython3",
   "version": "3.10.11"
  }
 },
 "nbformat": 4,
 "nbformat_minor": 5
}
