{
 "cells": [
  {
   "cell_type": "markdown",
   "id": "7f919ac5",
   "metadata": {},
   "source": [
    "# Giới thiệu"
   ]
  },
  {
   "cell_type": "markdown",
   "id": "c02a8c83",
   "metadata": {},
   "source": [
    "#### **OpenCV là gì?**\n",
    "OpenCV (Open Source Computer Vision Library) là một thư viện mã nguồn mở được thiết kế để xử lý ảnh, thị giác máy tính và học sâu. Thư viện này được phát triển lần đầu tiên bởi Intel vào năm 1999 và hiện được bảo trì bởi tổ chức OpenCV.org.\n",
    "OpenCV hỗ trợ nhiều ngôn ngữ như Python, C++, Java, nhưng Python là một trong những lựa chọn phổ biến nhất do cú pháp đơn giản và mạnh mẽ.\n",
    "\n",
    "#### **Tính năng nổi bật của OpenCV**\n",
    "- Xử lý ảnh (lọc ảnh, thay đổi kích thước, biến đổi màu, phát hiện cạnh, v.v.)\n",
    "- Nhận diện khuôn mặt, mắt, nụ cười,...\n",
    "- Phát hiện và theo dõi đối tượng trong video\n",
    "- Trích xuất đặc trưng ảnh (feature detection, matching)\n",
    "- Tích hợp với học sâu (Deep Learning frameworks như TensorFlow, PyTorch, ONNX)\n",
    "- Hỗ trợ xử lý video và webcam theo thời gian thực\n"
   ]
  },
  {
   "cell_type": "markdown",
   "id": "c3c36300",
   "metadata": {},
   "source": [
    "## Tải xuống các tài nguyên"
   ]
  },
  {
   "cell_type": "markdown",
   "id": "f0759d85",
   "metadata": {},
   "source": [
    "### Thêm các thư viện"
   ]
  },
  {
   "cell_type": "code",
   "execution_count": null,
   "id": "6ca48b2a",
   "metadata": {},
   "outputs": [],
   "source": [
    "# Imports\n",
    "import os\n",
    "from zipfile import ZipFile\n",
    "from urllib.request import urlretrieve\n",
    "\n",
    "%matplotlib inline"
   ]
  },
  {
   "cell_type": "markdown",
   "id": "7a0de297",
   "metadata": {},
   "source": [
    "`download_and_unzip(...)` được sử dụng để tải xuống và giải nén các tài nguyên trong note"
   ]
  },
  {
   "cell_type": "code",
   "execution_count": null,
   "id": "0a640476",
   "metadata": {},
   "outputs": [],
   "source": [
    "def download_and_unzip(url, save_path):\n",
    "    print(f\"Downloading and extracting assests....\", end=\"\")\n",
    "\n",
    "    # Downloading zip file using urllib package.\n",
    "    urlretrieve(url, save_path)\n",
    "\n",
    "    try:\n",
    "        # Extracting zip file using the zipfile package.\n",
    "        with ZipFile(save_path) as z:\n",
    "            # Extract ZIP file contents in the same directory.\n",
    "            z.extractall(os.path.split(save_path)[0])\n",
    "\n",
    "        print(\"Done\")\n",
    "\n",
    "    except Exception as e:\n",
    "        print(\"\\nInvalid file.\", e)"
   ]
  },
  {
   "cell_type": "code",
   "execution_count": null,
   "id": "0be0938c",
   "metadata": {},
   "outputs": [],
   "source": [
    "URL = r\"https://www.dropbox.com/s/zuwnn6rqe0f4zgh/opencv_bootcamp_assets_NB8.zip?dl=1\"\n",
    "\n",
    "image_folder = os.path.join(os.getcwd(), \"image\")\n",
    "os.makedirs(image_folder, exist_ok=True)\n",
    "\n",
    "asset_zip_path = os.path.join(image_folder, \"opencv_bootcamp_assets_NB8.zip\")\n",
    "\n",
    "# Download if assest ZIP does not exists.\n",
    "if not os.path.exists(asset_zip_path):\n",
    "    download_and_unzip(URL, asset_zip_path)"
   ]
  }
 ],
 "metadata": {
  "kernelspec": {
   "display_name": "Python 3",
   "language": "python",
   "name": "python3"
  },
  "language_info": {
   "codemirror_mode": {
    "name": "ipython",
    "version": 3
   },
   "file_extension": ".py",
   "mimetype": "text/x-python",
   "name": "python",
   "nbconvert_exporter": "python",
   "pygments_lexer": "ipython3",
   "version": "3.10.11"
  }
 },
 "nbformat": 4,
 "nbformat_minor": 5
}
