{
 "cells": [
  {
   "cell_type": "markdown",
   "id": "fb5ed120",
   "metadata": {},
   "source": [
    "## Thêm các thư viện"
   ]
  },
  {
   "cell_type": "code",
   "execution_count": 2,
   "id": "a4e23408",
   "metadata": {},
   "outputs": [],
   "source": [
    "# Imports\n",
    "import os\n",
    "from zipfile import ZipFile\n",
    "from urllib.request import urlretrieve\n",
    "\n",
    "%matplotlib inline"
   ]
  },
  {
   "cell_type": "markdown",
   "id": "3de72bf7",
   "metadata": {},
   "source": [
    "## Tải xuống các tài nguyên"
   ]
  },
  {
   "cell_type": "markdown",
   "id": "74f32b74",
   "metadata": {},
   "source": [
    "`download_and_unzip(...)` được sử dụng để tải xuống và giải nén các tài nguyên trong note"
   ]
  },
  {
   "cell_type": "code",
   "execution_count": 3,
   "id": "2915d25f",
   "metadata": {},
   "outputs": [],
   "source": [
    "def download_and_unzip(url, save_path):\n",
    "    print(f\"Downloading and extracting assests....\", end=\"\")\n",
    "\n",
    "    # Downloading zip file using urllib package.\n",
    "    urlretrieve(url, save_path)\n",
    "\n",
    "    try:\n",
    "        # Extracting zip file using the zipfile package.\n",
    "        with ZipFile(save_path) as z:\n",
    "            # Extract ZIP file contents in the same directory.\n",
    "            z.extractall(os.path.split(save_path)[0])\n",
    "\n",
    "        print(\"Done\")\n",
    "\n",
    "    except Exception as e:\n",
    "        print(\"\\nInvalid file.\", e)"
   ]
  },
  {
   "cell_type": "code",
   "execution_count": 4,
   "id": "4bfb12b0",
   "metadata": {},
   "outputs": [
    {
     "name": "stdout",
     "output_type": "stream",
     "text": [
      "Downloading and extracting assests....Done\n"
     ]
    }
   ],
   "source": [
    "URL = r\"https://www.dropbox.com/s/zuwnn6rqe0f4zgh/opencv_bootcamp_assets_NB8.zip?dl=1\"\n",
    "\n",
    "image_folder = os.path.join(os.getcwd(), \"image\")\n",
    "os.makedirs(image_folder, exist_ok=True)\n",
    "\n",
    "asset_zip_path = os.path.join(image_folder, \"opencv_bootcamp_assets_NB8.zip\")\n",
    "\n",
    "# Download if assest ZIP does not exists.\n",
    "if not os.path.exists(asset_zip_path):\n",
    "    download_and_unzip(URL, asset_zip_path)\n"
   ]
  }
 ],
 "metadata": {
  "kernelspec": {
   "display_name": "Python 3",
   "language": "python",
   "name": "python3"
  },
  "language_info": {
   "codemirror_mode": {
    "name": "ipython",
    "version": 3
   },
   "file_extension": ".py",
   "mimetype": "text/x-python",
   "name": "python",
   "nbconvert_exporter": "python",
   "pygments_lexer": "ipython3",
   "version": "3.10.11"
  }
 },
 "nbformat": 4,
 "nbformat_minor": 5
}
