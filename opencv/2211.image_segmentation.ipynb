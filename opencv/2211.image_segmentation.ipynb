{
 "cells": [
  {
   "cell_type": "markdown",
   "id": "adcc782f",
   "metadata": {},
   "source": [
    "# Phân đoạn ảnh - Image Segmentation"
   ]
  },
  {
   "cell_type": "markdown",
   "id": "d9653a52",
   "metadata": {},
   "source": [
    "Tập hợp các kỹ thuật giúp tách vùng hoặc đối tượng cụ thể ra khỏi ảnh, phục vụ cho các bước tiếp theo như nhận diện, đếm vật thể, theo dõi chuyển động,…"
   ]
  },
  {
   "cell_type": "markdown",
   "id": "ed1a96fc",
   "metadata": {},
   "source": [
    "## OpenCV hỗ trợ rất nhiều hàm để thực hiện việc này"
   ]
  },
  {
   "cell_type": "markdown",
   "id": "dfe6a4e7",
   "metadata": {},
   "source": [
    "### Phân ngưỡng - Thresholding\n",
    "\n",
    "Phân tách vùng sáng và tối"
   ]
  },
  {
   "cell_type": "markdown",
   "id": "3a4368db",
   "metadata": {},
   "source": [
    "### Region-based Segmentation\n",
    "\n",
    "Tách vùng theo màu sắc"
   ]
  },
  {
   "cell_type": "markdown",
   "id": "0c63e958",
   "metadata": {},
   "source": [
    "### Edge-based (contours)\n",
    "\n",
    "Dựa vào cạnh để phân đoạn\n"
   ]
  },
  {
   "cell_type": "markdown",
   "id": "42c756e3",
   "metadata": {},
   "source": [
    "### Watershed algorithm\t\n",
    "\n",
    "Phân đoạn theo “địa hình độ sáng”"
   ]
  },
  {
   "cell_type": "markdown",
   "id": "560b48a1",
   "metadata": {},
   "source": [
    "### Deep learning (U-Net, Mask R-CNN)\t\n",
    "\n",
    "Phân đoạn thông minh bằng mạng nơ-ron"
   ]
  }
 ],
 "metadata": {
  "language_info": {
   "name": "python"
  }
 },
 "nbformat": 4,
 "nbformat_minor": 5
}
