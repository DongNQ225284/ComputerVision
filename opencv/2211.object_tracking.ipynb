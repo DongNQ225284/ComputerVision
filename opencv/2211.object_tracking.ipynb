{
 "cells": [
  {
   "cell_type": "markdown",
   "id": "b5398335",
   "metadata": {},
   "source": [
    "# Theo dõi đối tượng\n",
    "**Satya Mallick, LearnOpenCV.com**\n",
    "\n",
    "- Theo dõi là gì?\n",
    "- Theo dõi trong tầm nhìn máy tính.\n",
    "- Mô hình chuyển động và mô hình xuất hiện.\n",
    "- Lớp theo dõi API OpenCV."
   ]
  },
  {
   "cell_type": "markdown",
   "id": "eebe14e9",
   "metadata": {},
   "source": [
    "# Goal\n",
    "\n",
    " Given the initial location of an object, track location in subsequent frames\n",
    "\n",
    "![Object Tracking](https://learnopencv.com/wp-content/uploads/2023/03/opencv_bootcamp_NB11_race_car_tracking.png)"
   ]
  },
  {
   "cell_type": "code",
   "execution_count": null,
   "id": "a3af870a",
   "metadata": {},
   "outputs": [],
   "source": [
    "import cv2\n",
    "import sys\n",
    "import numpy as np\n",
    "import matplotlib.pyplot as plt\n",
    "\n",
    "from zipfile import ZipFile\n",
    "from urllib.request import urlretrieve\n",
    "\n",
    "from IPython.display import HTML\n",
    "from matplotlib.animation import FuncAnimation\n",
    "\n",
    "from IPython.display import YouTubeVideo, display, HTML\n",
    "from base64 import b64encode\n",
    "\n",
    "%matplotlib inline"
   ]
  },
  {
   "cell_type": "markdown",
   "id": "a6b6d8a2",
   "metadata": {},
   "source": [
    "# Lớp theo dõi trong OpenCV\n",
    "\n",
    "1. BOOSTING\n",
    "2. MIL\n",
    "3. KCF\n",
    "4. CRST\n",
    "5. TLD\n",
    "* Có xu hướng phục hồi sau khi bị che khuất\n",
    "6. MEDIANFLOW\n",
    "* Tốt cho chuyển động chậm có thể dự đoán được\n",
    "7. GOTURN\n",
    "* Dựa trên Học sâu\n",
    "* Chính xác nhất\n",
    "8. MOSSE\n",
    "* Nhanh nhất"
   ]
  },
  {
   "cell_type": "code",
   "execution_count": null,
   "id": "afffafe1",
   "metadata": {},
   "outputs": [],
   "source": [
    "video = YouTubeVideo(\"XkJCvtCRdVM\", width=1024, height=640)\n",
    "display(video)"
   ]
  },
  {
   "cell_type": "code",
   "execution_count": null,
   "id": "2761ff5a",
   "metadata": {},
   "outputs": [],
   "source": [
    "video_input_file_name = \"videos/race_car.mp4\"\n",
    "\n",
    "def drawRectangle(frame, bbox):\n",
    "    p1 = (int(bbox[0]), int(bbox[1]))\n",
    "    p2 = (int(bbox[0] + bbox[2]), int(bbox[1] + bbox[3]))\n",
    "    cv2.rectangle(frame, p1, p2, (255, 0, 0), 2, 1)\n",
    "\n",
    "def displayRectangle(frame, bbox):\n",
    "    plt.figure(figsize=(20, 10))\n",
    "    frameCopy = frame.copy()\n",
    "    drawRectangle(frameCopy, bbox)\n",
    "    frameCopy = cv2.cvtColor(frameCopy, cv2.COLOR_RGB2BGR)\n",
    "    plt.imshow(frameCopy)\n",
    "    #plt.axis(\"off\")\n",
    "\n",
    "def drawText(frame, txt, location, color=(50, 170, 50)):\n",
    "    cv2.putText(frame, txt, location, cv2.FONT_HERSHEY_SIMPLEX, 1, color, 3)"
   ]
  },
  {
   "cell_type": "markdown",
   "id": "112d3613",
   "metadata": {},
   "source": [
    "# GOTURN Tracker\n",
    "\n",
    "![](https://learnopencv.com/wp-content/uploads/2023/03/opencv_bootcamp_NB11_goturn.jpg)"
   ]
  },
  {
   "cell_type": "markdown",
   "id": "15074ca5",
   "metadata": {},
   "source": [
    "# Tạo phiên bản Tracker"
   ]
  },
  {
   "cell_type": "code",
   "execution_count": null,
   "id": "13543e53",
   "metadata": {},
   "outputs": [],
   "source": [
    "# Thiết lập tracker\n",
    "tracker_types = [\n",
    "    \"BOOSTING\",\n",
    "    \"MIL\",\n",
    "    \"KCF\",\n",
    "    \"CSRT\",\n",
    "    \"TLD\",\n",
    "    \"MEDIANFLOW\",\n",
    "    \"GOTURN\",\n",
    "    \"MOSSE\",\n",
    "]\n",
    "# Thay đổi chỉ mục để thay đổi loại trình theo dõi\n",
    "tracker_type = tracker_types[3]\n",
    "\n",
    "if tracker_type == \"BOOSTING\":\n",
    "    tracker = cv2.legacy.TrackerBoosting.create()\n",
    "elif tracker_type == \"MIL\":\n",
    "    tracker = cv2.legacy.TrackerMIL.create()\n",
    "elif tracker_type == \"KCF\":\n",
    "    tracker = cv2.legacy.TrackerKCF.create()\n",
    "elif tracker_type == \"CSRT\":\n",
    "    tracker = cv2.legacy.TrackerCSRT.create()\n",
    "elif tracker_type == \"TLD\":\n",
    "    tracker = cv2.legacy.TrackerTLD.create()\n",
    "elif tracker_type == \"MEDIANFLOW\":\n",
    "    tracker = cv2.legacy.TrackerMedianFlow.create()\n",
    "elif tracker_type == \"GOTURN\":\n",
    "    tracker = cv2.legacy.TrackerGOTURN.create()\n",
    "else:\n",
    "    tracker = cv2.legacy.TrackerMOSSE.create()"
   ]
  },
  {
   "cell_type": "markdown",
   "id": "ea2e137f",
   "metadata": {},
   "source": [
    "# Đọc video đầu vào & Thiết lập video đầu ra"
   ]
  },
  {
   "cell_type": "code",
   "execution_count": null,
   "id": "01a25a01",
   "metadata": {},
   "outputs": [],
   "source": [
    "# Đọc video\n",
    "video = cv2.VideoCapture(video_input_file_name)\n",
    "ok, frame = video.read()\n",
    "\n",
    "# Thoát nếu không đọc được\n",
    "if not video.isOpened():\n",
    "    print(\"Could not open video\")\n",
    "    sys.exit()\n",
    "else:\n",
    "    width = int(video.get(cv2.CAP_PROP_FRAME_WIDTH))\n",
    "    height = int(video.get(cv2.CAP_PROP_FRAME_HEIGHT))\n",
    "\n",
    "video_output_file_name = \"videos/race_car-\" + tracker_type + \".mp4\"\n",
    "video_out = cv2.VideoWriter(video_output_file_name, cv2.VideoWriter_fourcc(*\"XVID\"), 10, (width, height))\n",
    "\n",
    "video_output_file_name"
   ]
  },
  {
   "cell_type": "markdown",
   "id": "e04c9c4f",
   "metadata": {},
   "source": [
    "# Định nghĩa hộp giới hạn"
   ]
  },
  {
   "cell_type": "code",
   "execution_count": null,
   "id": "f4eae440",
   "metadata": {},
   "outputs": [],
   "source": [
    "# Định nghĩa hộp giới hạn\n",
    "bbox = (1160, 250, 120, 80)\n",
    "# bbox = cv2.selectROI(frame, False)\n",
    "# print(bbox)\n",
    "displayRectangle(frame, bbox)"
   ]
  },
  {
   "cell_type": "markdown",
   "id": "4585f0ca",
   "metadata": {},
   "source": [
    "# Intilialize Tracker\n",
    "\n",
    "1. Một khung hình\n",
    "\n",
    "2. Một hộp giới hạn"
   ]
  },
  {
   "cell_type": "code",
   "execution_count": null,
   "id": "4d139688",
   "metadata": {},
   "outputs": [],
   "source": [
    "# Khởi tạo trình theo dõi với khung hình đầu tiên và hộp giới hạn\n",
    "\n",
    "ok = tracker.init(frame, bbox)"
   ]
  },
  {
   "cell_type": "markdown",
   "id": "d8de0df8",
   "metadata": {},
   "source": [
    "# Đọc khung và theo dõi đối tượng"
   ]
  },
  {
   "cell_type": "code",
   "execution_count": null,
   "id": "5ecc9017",
   "metadata": {},
   "outputs": [],
   "source": [
    "while True:\n",
    "    ok, frame = video.read()\n",
    "\n",
    "    if not ok:\n",
    "        break\n",
    "\n",
    "    # Bắt đầu hẹn giờ\n",
    "    timer = cv2.getTickCount()\n",
    "\n",
    "    # Cập nhật tracker\n",
    "    ok, bbox = tracker.update(frame)\n",
    "\n",
    "    # Tính số khung hình trên giây (FPS)\n",
    "    fps = cv2.getTickFrequency() / (cv2.getTickCount() - timer)\n",
    "\n",
    "    # Vẽ hộp giới hạn\n",
    "    if ok:\n",
    "        drawRectangle(frame, bbox)\n",
    "    else:\n",
    "        drawText(frame, \"Tracking failure detected\", (80, 140), (0, 0, 255))\n",
    "\n",
    "    # Display Info\n",
    "    drawText(frame, tracker_type + \" Tracker\", (80, 60))\n",
    "    drawText(frame, \"FPS : \" + str(int(fps)), (80, 100))\n",
    "\n",
    "    # Write frame to video\n",
    "    video_out.write(frame)\n",
    "\n",
    "video.release()\n",
    "video_out.release()"
   ]
  },
  {
   "cell_type": "code",
   "execution_count": null,
   "id": "84c4047a",
   "metadata": {},
   "outputs": [],
   "source": [
    "!ffmpeg -y -i {video_output_file_name} -c:v libx264 \"videos/race_car_track_x264.mp4\"  -hide_banner -loglevel error"
   ]
  },
  {
   "cell_type": "markdown",
   "id": "10ad2b71",
   "metadata": {},
   "source": [
    "#### Kết xuất video MP4"
   ]
  },
  {
   "cell_type": "code",
   "execution_count": null,
   "id": "21a3bee1",
   "metadata": {},
   "outputs": [],
   "source": [
    "mp4 = open(\"videos/race_car_track_x264.mp4\", \"rb\").read()\n",
    "data_url = \"data:videos/mp4;base64,\" + b64encode(mp4).decode()\n",
    "\n",
    "HTML(f\"\"\"<video width=1024 controls><source src=\"{data_url}\" type=\"videos/mp4\"></video>\"\"\")"
   ]
  },
  {
   "cell_type": "markdown",
   "id": "4f5d5036",
   "metadata": {},
   "source": [
    "Video dự kiến ​​được hiển thị trong ô trên phải giống như video sau."
   ]
  },
  {
   "cell_type": "code",
   "execution_count": null,
   "id": "c243cf3d",
   "metadata": {},
   "outputs": [],
   "source": [
    "# Tracker: KCF\n",
    "video = YouTubeVideo(\"pk3tmdRX4ww\", width=1024, height=640)\n",
    "display(video)"
   ]
  },
  {
   "cell_type": "code",
   "execution_count": null,
   "id": "7e436dfb",
   "metadata": {},
   "outputs": [],
   "source": [
    "# Tracker: CSRT\n",
    "video = YouTubeVideo(\"6gGDf-7ypBE\", width=1024, height=640)\n",
    "display(video)"
   ]
  },
  {
   "cell_type": "code",
   "execution_count": null,
   "id": "9c33ed77",
   "metadata": {},
   "outputs": [],
   "source": [
    "# Tracker: GOTURN\n",
    "video = YouTubeVideo(\"0bnWxc4zMvY\", width=1024, height=640)\n",
    "display(video)"
   ]
  }
 ],
 "metadata": {
  "kernelspec": {
   "display_name": "Python 3",
   "language": "python",
   "name": "python3"
  },
  "language_info": {
   "codemirror_mode": {
    "name": "ipython",
    "version": 3
   },
   "file_extension": ".py",
   "mimetype": "text/x-python",
   "name": "python",
   "nbconvert_exporter": "python",
   "pygments_lexer": "ipython3",
   "version": "3.10.11"
  }
 },
 "nbformat": 4,
 "nbformat_minor": 5
}
